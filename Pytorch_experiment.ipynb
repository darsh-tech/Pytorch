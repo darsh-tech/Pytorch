{
  "nbformat": 4,
  "nbformat_minor": 0,
  "metadata": {
    "colab": {
      "provenance": [],
      "gpuType": "T4",
      "authorship_tag": "ABX9TyMRHGoCQzUn3CI+FvsQf66y",
      "include_colab_link": true
    },
    "kernelspec": {
      "name": "python3",
      "display_name": "Python 3"
    },
    "language_info": {
      "name": "python"
    },
    "accelerator": "GPU"
  },
  "cells": [
    {
      "cell_type": "markdown",
      "metadata": {
        "id": "view-in-github",
        "colab_type": "text"
      },
      "source": [
        "<a href=\"https://colab.research.google.com/github/darsh-tech/Pytorch/blob/master/Pytorch_experiment.ipynb\" target=\"_parent\"><img src=\"https://colab.research.google.com/assets/colab-badge.svg\" alt=\"Open In Colab\"/></a>"
      ]
    },
    {
      "cell_type": "markdown",
      "source": [
        "Import libraries"
      ],
      "metadata": {
        "id": "t81pnM_anQBq"
      }
    },
    {
      "cell_type": "code",
      "execution_count": 1,
      "metadata": {
        "id": "J-dtf33LThEZ"
      },
      "outputs": [],
      "source": [
        "import torch\n",
        "import numpy as np\n"
      ]
    },
    {
      "cell_type": "code",
      "source": [
        "x=[[1,3],[2,5]]\n",
        "ok=torch.tensor(x)\n",
        "print(ok)"
      ],
      "metadata": {
        "colab": {
          "base_uri": "https://localhost:8080/"
        },
        "id": "jpP9WzuxTpXE",
        "outputId": "5c45bab2-3d75-4fb9-f8c4-021b49d20646"
      },
      "execution_count": 2,
      "outputs": [
        {
          "output_type": "stream",
          "name": "stdout",
          "text": [
            "tensor([[1, 3],\n",
            "        [2, 5]])\n"
          ]
        }
      ]
    },
    {
      "cell_type": "markdown",
      "source": [
        "# initializing from numpy array"
      ],
      "metadata": {
        "id": "nLx2EZ5uVR9Q"
      }
    },
    {
      "cell_type": "code",
      "source": [
        "torch.tensor(np.array(x))"
      ],
      "metadata": {
        "colab": {
          "base_uri": "https://localhost:8080/"
        },
        "id": "0xbMKN3pUx6F",
        "outputId": "7ed17dd5-0126-4345-9963-3c77d1d310eb"
      },
      "execution_count": 4,
      "outputs": [
        {
          "output_type": "execute_result",
          "data": {
            "text/plain": [
              "tensor([[1, 3],\n",
              "        [2, 5]])"
            ]
          },
          "metadata": {},
          "execution_count": 4
        }
      ]
    },
    {
      "cell_type": "code",
      "source": [
        "ol=torch.ones_like(ok)\n",
        "print(ol)"
      ],
      "metadata": {
        "colab": {
          "base_uri": "https://localhost:8080/"
        },
        "id": "mT1Yx2eqVPet",
        "outputId": "b5009500-2a73-454c-8313-6427777f5b52"
      },
      "execution_count": 6,
      "outputs": [
        {
          "output_type": "stream",
          "name": "stdout",
          "text": [
            "tensor([[1, 1],\n",
            "        [1, 1]])\n"
          ]
        }
      ]
    },
    {
      "cell_type": "code",
      "source": [
        "pl=torch.rand_like(ok,dtype=torch.float)\n",
        "print(pl)"
      ],
      "metadata": {
        "colab": {
          "base_uri": "https://localhost:8080/"
        },
        "id": "EO-ms5ScV75X",
        "outputId": "29b79855-e5cf-425a-f4ee-c21a7f5e024f"
      },
      "execution_count": 7,
      "outputs": [
        {
          "output_type": "stream",
          "name": "stdout",
          "text": [
            "tensor([[0.5579, 0.5640],\n",
            "        [0.8220, 0.8671]])\n"
          ]
        }
      ]
    },
    {
      "cell_type": "markdown",
      "source": [
        "To select random values or constant"
      ],
      "metadata": {
        "id": "nS-TAwEHW4yi"
      }
    },
    {
      "cell_type": "code",
      "source": [
        "tensor=torch.rand(2,3)"
      ],
      "metadata": {
        "id": "Q74VyDQaWmcf"
      },
      "execution_count": 11,
      "outputs": []
    },
    {
      "cell_type": "markdown",
      "source": [
        "To check that tensor attributes"
      ],
      "metadata": {
        "id": "TmIzA2nwYZpq"
      }
    },
    {
      "cell_type": "code",
      "source": [
        "print(tensor.shape)\n",
        "print(tensor.dtype)\n",
        "tensor.device"
      ],
      "metadata": {
        "colab": {
          "base_uri": "https://localhost:8080/"
        },
        "id": "v4AoPTv2XBHN",
        "outputId": "cf26c21a-6b37-4f4c-f177-1a6d02fed55e"
      },
      "execution_count": 19,
      "outputs": [
        {
          "output_type": "stream",
          "name": "stdout",
          "text": [
            "torch.Size([2, 3])\n",
            "torch.float32\n"
          ]
        },
        {
          "output_type": "execute_result",
          "data": {
            "text/plain": [
              "device(type='cpu')"
            ]
          },
          "metadata": {},
          "execution_count": 19
        }
      ]
    },
    {
      "cell_type": "markdown",
      "source": [
        "# To load the tensor operaions to cuda rather than"
      ],
      "metadata": {
        "id": "ISMK4pb0ZdNi"
      }
    },
    {
      "cell_type": "code",
      "source": [
        "if  torch.cuda.is_available():\n",
        "    tensor=tensor.to(\"cuda\")\n",
        "    print(tensor.device)\n",
        "else:\n",
        "    print(\"cuda not available\")"
      ],
      "metadata": {
        "colab": {
          "base_uri": "https://localhost:8080/"
        },
        "id": "LUFf2J2WX26V",
        "outputId": "ae1b7251-371c-4f34-a85b-f7c8be0eda23"
      },
      "execution_count": 20,
      "outputs": [
        {
          "output_type": "stream",
          "name": "stdout",
          "text": [
            "cuda:0\n"
          ]
        }
      ]
    },
    {
      "cell_type": "markdown",
      "source": [
        "To join two or more tensors"
      ],
      "metadata": {
        "id": "qalqzh9heTbH"
      }
    },
    {
      "cell_type": "code",
      "source": [
        "pll=torch.cat([tensor,tensor,tensor],dim=1)\n",
        "print(pll)"
      ],
      "metadata": {
        "colab": {
          "base_uri": "https://localhost:8080/"
        },
        "id": "9kBWan76ZQhz",
        "outputId": "317e91cf-9c2a-438d-db64-6890ae1849b3"
      },
      "execution_count": 23,
      "outputs": [
        {
          "output_type": "stream",
          "name": "stdout",
          "text": [
            "tensor([[0.5127, 0.7368, 0.5489, 0.5127, 0.7368, 0.5489, 0.5127, 0.7368, 0.5489],\n",
            "        [0.1640, 0.7815, 0.4787, 0.1640, 0.7815, 0.4787, 0.1640, 0.7815, 0.4787]],\n",
            "       device='cuda:0')\n"
          ]
        }
      ]
    },
    {
      "cell_type": "markdown",
      "source": [
        "convert tensors to numpy"
      ],
      "metadata": {
        "id": "Cf-6u-4QmeFj"
      }
    },
    {
      "cell_type": "code",
      "source": [
        "t=torch.ones(5)\n",
        "print(t.numpy())"
      ],
      "metadata": {
        "colab": {
          "base_uri": "https://localhost:8080/"
        },
        "id": "nPaSr-Yxd8HS",
        "outputId": "a29d7ce9-4177-4f8c-8616-c0614aa75290"
      },
      "execution_count": 24,
      "outputs": [
        {
          "output_type": "stream",
          "name": "stdout",
          "text": [
            "[1. 1. 1. 1. 1.]\n"
          ]
        }
      ]
    },
    {
      "cell_type": "markdown",
      "source": [
        "convert numpy to tensors"
      ],
      "metadata": {
        "id": "gahJS5wwnLgN"
      }
    },
    {
      "cell_type": "code",
      "source": [
        "nump=np.ones(5)\n",
        "print(torch.from_numpy(nump))"
      ],
      "metadata": {
        "colab": {
          "base_uri": "https://localhost:8080/"
        },
        "id": "ywvA03uHmcmK",
        "outputId": "853bfca0-329a-4c2b-e6f6-19adfdd2e279"
      },
      "execution_count": 25,
      "outputs": [
        {
          "output_type": "stream",
          "name": "stdout",
          "text": [
            "tensor([1., 1., 1., 1., 1.], dtype=torch.float64)\n"
          ]
        }
      ]
    },
    {
      "cell_type": "code",
      "source": [],
      "metadata": {
        "id": "IaLv2Zq3nJ4p"
      },
      "execution_count": null,
      "outputs": []
    }
  ]
}